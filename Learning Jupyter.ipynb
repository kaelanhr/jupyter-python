{
 "cells": [
  {
   "cell_type": "code",
   "execution_count": 3,
   "id": "cb515226",
   "metadata": {},
   "outputs": [],
   "source": [
    "name = \"Matt\"\n",
    "age = 36"
   ]
  },
  {
   "cell_type": "code",
   "execution_count": 4,
   "id": "b8e04ffc",
   "metadata": {},
   "outputs": [
    {
     "name": "stdout",
     "output_type": "stream",
     "text": [
      "Matt is 36 years old.\n"
     ]
    }
   ],
   "source": [
    "print(name + ' is ' + str(age) + ' years old.')"
   ]
  }
 ],
 "metadata": {
  "kernelspec": {
   "display_name": "Python 3 (ipykernel)",
   "language": "python",
   "name": "python3"
  },
  "language_info": {
   "codemirror_mode": {
    "name": "ipython",
    "version": 3
   },
   "file_extension": ".py",
   "mimetype": "text/x-python",
   "name": "python",
   "nbconvert_exporter": "python",
   "pygments_lexer": "ipython3",
   "version": "3.9.16"
  }
 },
 "nbformat": 4,
 "nbformat_minor": 5
}
